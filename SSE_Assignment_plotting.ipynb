{
 "cells": [
  {
   "cell_type": "code",
   "execution_count": 1,
   "metadata": {},
   "outputs": [],
   "source": [
    "import numpy as np\n",
    "import matplotlib.pylab as plt\n",
    "%matplotlib inline\n",
    "from scipy import constants as con"
   ]
  },
  {
   "cell_type": "markdown",
   "metadata": {},
   "source": [
    "# Plotting script for SSE assignment"
   ]
  },
  {
   "cell_type": "code",
   "execution_count": 2,
   "metadata": {},
   "outputs": [],
   "source": [
    "from mymisc import *"
   ]
  },
  {
   "cell_type": "markdown",
   "metadata": {},
   "source": [
    "Vizualisation of \n",
    "### stellar models with MESA (version:xxx)\n",
    "1 and 2 M_solar star\n",
    "non rotating\n",
    "evolving from the pre-main sequence up to white dwarf stage"
   ]
  },
  {
   "cell_type": "markdown",
   "metadata": {},
   "source": [
    "### comparison of the output profile data\n"
   ]
  },
  {
   "cell_type": "code",
   "execution_count": 3,
   "metadata": {},
   "outputs": [
    {
     "ename": "BadPathError",
     "evalue": "./1M_prems_to_wd/LOGS is not a valid directory.",
     "output_type": "error",
     "traceback": [
      "\u001b[0;31m---------------------------------------------------------------------------\u001b[0m",
      "\u001b[0;31mBadPathError\u001b[0m                              Traceback (most recent call last)",
      "Cell \u001b[0;32mIn[3], line 3\u001b[0m\n\u001b[1;32m      1\u001b[0m \u001b[38;5;28;01mimport\u001b[39;00m \u001b[38;5;21;01mmesa_reader\u001b[39;00m \u001b[38;5;28;01mas\u001b[39;00m \u001b[38;5;21;01mmr\u001b[39;00m\n\u001b[1;32m      2\u001b[0m \u001b[38;5;66;03m#diretions of the LOG-files\u001b[39;00m\n\u001b[0;32m----> 3\u001b[0m log1 \u001b[38;5;241m=\u001b[39m \u001b[43mmr\u001b[49m\u001b[38;5;241;43m.\u001b[39;49m\u001b[43mMesaLogDir\u001b[49m\u001b[43m(\u001b[49m\u001b[38;5;124;43m'\u001b[39;49m\u001b[38;5;124;43m./1M_prems_to_wd/LOGS\u001b[39;49m\u001b[38;5;124;43m'\u001b[39;49m\u001b[43m)\u001b[49m\n\u001b[1;32m      4\u001b[0m log2 \u001b[38;5;241m=\u001b[39m mr\u001b[38;5;241m.\u001b[39mMesaLogDir(\u001b[38;5;124m'\u001b[39m\u001b[38;5;124m./2M_prems_to_wd/LOGS\u001b[39m\u001b[38;5;124m'\u001b[39m)\n",
      "File \u001b[0;32m~/.local/lib/python3.10/site-packages/mesa_reader/__init__.py:1003\u001b[0m, in \u001b[0;36mMesaLogDir.__init__\u001b[0;34m(self, log_path, profile_prefix, profile_suffix, history_file, index_file, memoize_profiles)\u001b[0m\n\u001b[1;32m   1001\u001b[0m \u001b[38;5;66;03m# Check if log_path and files are dir/files.\u001b[39;00m\n\u001b[1;32m   1002\u001b[0m \u001b[38;5;28;01mif\u001b[39;00m \u001b[38;5;129;01mnot\u001b[39;00m os\u001b[38;5;241m.\u001b[39mpath\u001b[38;5;241m.\u001b[39misdir(\u001b[38;5;28mself\u001b[39m\u001b[38;5;241m.\u001b[39mlog_path):\n\u001b[0;32m-> 1003\u001b[0m     \u001b[38;5;28;01mraise\u001b[39;00m BadPathError(\u001b[38;5;28mself\u001b[39m\u001b[38;5;241m.\u001b[39mlog_path \u001b[38;5;241m+\u001b[39m \u001b[38;5;124m'\u001b[39m\u001b[38;5;124m is not a valid directory.\u001b[39m\u001b[38;5;124m'\u001b[39m)\n\u001b[1;32m   1005\u001b[0m \u001b[38;5;28mself\u001b[39m\u001b[38;5;241m.\u001b[39mhistory_path \u001b[38;5;241m=\u001b[39m os\u001b[38;5;241m.\u001b[39mpath\u001b[38;5;241m.\u001b[39mjoin(\u001b[38;5;28mself\u001b[39m\u001b[38;5;241m.\u001b[39mlog_path, \u001b[38;5;28mself\u001b[39m\u001b[38;5;241m.\u001b[39mhistory_file)\n\u001b[1;32m   1006\u001b[0m \u001b[38;5;28;01mif\u001b[39;00m \u001b[38;5;129;01mnot\u001b[39;00m os\u001b[38;5;241m.\u001b[39mpath\u001b[38;5;241m.\u001b[39misfile(\u001b[38;5;28mself\u001b[39m\u001b[38;5;241m.\u001b[39mhistory_path):\n",
      "\u001b[0;31mBadPathError\u001b[0m: ./1M_prems_to_wd/LOGS is not a valid directory."
     ]
    }
   ],
   "source": [
    "import mesa_reader as mr\n",
    "#diretions of the LOG-files\n",
    "log1 = mr.MesaLogDir('./1M_prems_to_wd/LOGS')\n",
    "log2 = mr.MesaLogDir('./2M_prems_to_wd/LOGS')"
   ]
  },
  {
   "cell_type": "markdown",
   "metadata": {},
   "source": [
    "Check on last age:"
   ]
  },
  {
   "cell_type": "code",
   "execution_count": null,
   "metadata": {},
   "outputs": [],
   "source": [
    "print(log1.history.star_age[-1])\n",
    "print(log2.history.star_age[-1])"
   ]
  },
  {
   "cell_type": "markdown",
   "metadata": {},
   "source": [
    "### Hertzsprung-Russell diagram"
   ]
  },
  {
   "cell_type": "code",
   "execution_count": null,
   "metadata": {},
   "outputs": [],
   "source": [
    "log1_L = log1.history.log_L\n",
    "log1_Teff = log1.history.log_Teff\n",
    "log2_L = log2.history.log_L\n",
    "log2_Teff = log2.history.log_Teff\n",
    "\n",
    "#adjust plotting properties\n",
    "pagewidth, columnwidth = set_plot_defaults()\n",
    "fig, ax = plt.subplots(1, 1, figsize=(columnwidth, columnwidth*3/4))\n",
    "\n",
    "ax.plot(log1_Teff, log1_L, '-.',label = r'1 M$_\\odot$ star', color = 'orange')\n",
    "ax.plot(log2_Teff, log2_L, '--', label = r'2 M$_\\odot$ star', color = 'orange')\n",
    "\n",
    "ax.plot([log1_Teff[0], log2_Teff[0]],[log1_L[0],log2_L[0]], linestyle = '', marker = 's', markeredgecolor = 'black', alpha = 0.5, label = 'Start evolution at pre-ms', color = 'green')\n",
    "ax.plot([log1_Teff[-1], log2_Teff[-1]], [log1_L[-1], log2_L[-1]], linestyle = '', marker = 'o', markeredgecolor = 'black', alpha = 0.5,label = 'End evolution as wd', color = 'red')\n",
    "\n",
    "ax.set_xlabel(r'$\\log\\,T_\\mathrm{eff}/\\mathrm{K}$')\n",
    "ax.set_ylabel(r'$\\log\\,L/\\mathrm{L}_\\odot$')\n",
    "ax.set_title('HR-diagram: MESA vs Original models')\n",
    "plt.legend(loc = 'best', prop={'size': 6})\n",
    "plt.grid(linewidth=0.1)\n",
    "\n",
    "ax.invert_xaxis()\n",
    "plt.savefig('./figures/hr_evolution.pdf', dpi='figure', format='pdf', res = 600)"
   ]
  },
  {
   "cell_type": "markdown",
   "metadata": {},
   "source": [
    "## Kippenhahn diagrams"
   ]
  },
  {
   "cell_type": "code",
   "execution_count": null,
   "metadata": {},
   "outputs": [],
   "source": [
    "import mkipp\n",
    "#fig, (ax1, ax2) = plt.subplots(1, 2) #possible for mkipp?\n",
    "\n",
    "# main Kippenhahn diagram\n",
    "kipp_plot = mkipp.kipp_plot(mkipp.Kipp_Args(logs_dirs=['8M_sol_nonrot_template/LOGS'], \n",
    "                                                #xaxis =\"star_age\", \n",
    "                                                decorate_plot = False))\n",
    "\n",
    "# we used 'decorate_plot = False', so add colorbar and label\n",
    "cbar = plt.colorbar(kipp_plot.contour_plot, pad=0.05)\n",
    "cbar.set_label(r'$\\log\\, \\epsilon_\\mathrm{nuc}\\,/\\,\\mathrm{erg}\\,\\mathrm{s}^{-1}\\,\\mathrm{g}^{-1}$')\n",
    "\n",
    "# xy labels\n",
    "plt.xlabel(\"Model number\")\n",
    "plt.ylabel(r'$m_{*}\\,/\\,\\mathrm{M}_\\odot$')\n",
    "plt.title(r'MESA: non-rotating 8 $\\mathrm{M}_\\odot$ star')\n",
    "plt.savefig('./figures/kip_mesa_8M_9Myr.pdf', dpi='figure', format='pdf', res = 300)\n",
    "###########################################################\n",
    "#Kippenhahn diagrams of Arepo diagrams\n",
    "# main Kippenhahn diagram my model\n",
    "kipp_plot = mkipp.kipp_plot(mkipp.Kipp_Args(logs_dirs=['mesa_merger_progenitors_for_arepo_simulation/LOGS-m8-9myr'],\n",
    "                                                xaxis =\"star_age\", \n",
    "                                                decorate_plot = False))\n",
    "\n",
    "# we used 'decorate_plot = False', so add colorbar and label\n",
    "cbar = plt.colorbar(kipp_plot.contour_plot, pad=0.05)\n",
    "cbar.set_label(r'$\\log\\, \\epsilon_\\mathrm{nuc}\\,/\\,\\mathrm{erg}\\,\\mathrm{s}^{-1}\\,\\mathrm{g}^{-1}$')\n",
    "\n",
    "# xy labels\n",
    "plt.xlabel(\"Time/Myr\")\n",
    "plt.ylabel(r'$m\\,/\\,\\mathrm{M}_\\odot$')\n",
    "plt.title(r'Original 8$\\mathrm{M}_\\odot$ star till 9Myr')\n",
    "plt.savefig('./figures/kip_arepo_8M_9Myr_age.pdf', dpi='figure', format='pdf', res = 300)"
   ]
  },
  {
   "cell_type": "markdown",
   "metadata": {},
   "source": [
    "### further plots: MESA"
   ]
  },
  {
   "cell_type": "code",
   "execution_count": null,
   "metadata": {},
   "outputs": [],
   "source": [
    "#choose profile to plot\n",
    "no = -1\n",
    "#mass of star over profile == length of profile array: \n",
    "# 0 --> 1 M(r)/M* #---> revert y-axis\n",
    "#star mass\n",
    "def m_profile(log, i):\n",
    "    s = 0\n",
    "    p = log.profile_data(profile_number=i)\n",
    "    m = p.mass\n",
    "    qm = p.q\n",
    "    try:\n",
    "        dm = p.dm\n",
    "        return m, qm, dm\n",
    "    except:\n",
    "        return m,qm\n",
    "m1, qm1, dm1 = m_profile(log1,no)\n",
    "m2, qm2, dm2 = m_profile(log2,no)#/np.max(m_profile(log9,no))\n",
    "\n",
    "\n",
    "# check if -1 takes the right profile\n",
    "p = log8.profile_data(profile_number=-1)\n",
    "age = p.star_age\n",
    "print(age)"
   ]
  },
  {
   "cell_type": "markdown",
   "metadata": {},
   "source": [
    "### log(rho_c) vs. log(T_c) plot"
   ]
  },
  {
   "cell_type": "code",
   "execution_count": null,
   "metadata": {},
   "outputs": [],
   "source": [
    "#define T profile of last time step\n",
    "def T_profile(log, i):\n",
    "    p = log.profile_data(profile_number=i)\n",
    "    t = p.logT\n",
    "    return t\n",
    "#define last entropy profile\n",
    "Teff_1 = T_profile(log1, no)\n",
    "Teff_2 = T_profile(log2, no)\n",
    "\n",
    "#define rho profile of last time step\n",
    "def rho_profile(log, i):\n",
    "    p = log.profile_data(profile_number=i)\n",
    "    r = p.logRho\n",
    "    return r\n",
    "\n",
    "#define last entropy profile\n",
    "rho_1 = rho_profile(log1, no)\n",
    "rho_2 = rho_profile(log2, no)\n",
    "\n",
    "\n",
    "#Mass vs. Temperature plot\n",
    "#adjust plotting properties\n",
    "pagewidth, columnwidth = set_plot_defaults()\n",
    "fig, ax = plt.subplots(1, 1, figsize=(columnwidth, columnwidth*3/4))\n",
    "\n",
    "ax.plot(Teff_1, (rho_1), '-.',label = r'$1M_\\odot$ star', color = 'orange')\n",
    "ax.plot(Teff_2, (rho_2), '--', label = r'$2M_\\odot$ star', color = 'orange')\n",
    "\n",
    "ax.set_ylabel(r'log($\\rho_c$) $[kg/m^3]$')\n",
    "ax.set_xlabel(r'log(T$_c$) $[K]$')\n",
    "ax.set_title(r'$log(\\rho)$ -log(T$_c$-diagram')\n",
    "plt.legend(loc = 'best', prop={'size': 7})\n",
    "plt.grid()\n",
    "plt.savefig('./figures/profile_log(Tc)_vs_log(rhoc).pdf', dpi='figure', format='pdf', res = 300)"
   ]
  },
  {
   "cell_type": "code",
   "execution_count": null,
   "metadata": {},
   "outputs": [],
   "source": []
  }
 ],
 "metadata": {
  "kernelspec": {
   "display_name": "Python 3 (ipykernel)",
   "language": "python",
   "name": "python3"
  },
  "language_info": {
   "codemirror_mode": {
    "name": "ipython",
    "version": 3
   },
   "file_extension": ".py",
   "mimetype": "text/x-python",
   "name": "python",
   "nbconvert_exporter": "python",
   "pygments_lexer": "ipython3",
   "version": "3.10.6"
  }
 },
 "nbformat": 4,
 "nbformat_minor": 4
}
